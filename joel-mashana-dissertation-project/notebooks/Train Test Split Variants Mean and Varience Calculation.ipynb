{
 "cells": [
  {
   "cell_type": "code",
   "execution_count": 9,
   "id": "c2a08f8d",
   "metadata": {},
   "outputs": [],
   "source": [
    "import pandas as pd\n",
    "import numpy as np\n",
    "import matplotlib as plt\n",
    "\n",
    "# Data for Decision Tree results\n",
    "data = {\n",
    "    \"Random State\": [1, 2, 3, 4, 5, 6, 7, 8, 9, 10],\n",
    "    \"Accuracy\": [0.7688338493292054, 0.7678018575851393, 0.7936016511867905, 0.7657378740970072, 0.7719298245614035,\n",
    "                 0.7781217750257998, 0.7791537667698658, 0.7678018575851393, 0.7884416924664602, 0.7966976264189887],\n",
    "    \"AUC\": [0.7066529290550486, 0.7141094199917729, 0.7346689011302721, 0.7088552854720181, 0.7119283267170591,\n",
    "            0.7322879634332149, 0.7160893574297188, 0.7216982136393638, 0.7290475191556076, 0.7398349286410271]\n",
    "}\n",
    "\n",
    "\n",
    "df = pd.DataFrame(data)"
   ]
  },
  {
   "cell_type": "code",
   "execution_count": 3,
   "id": "d644d64c",
   "metadata": {},
   "outputs": [
    {
     "name": "stdout",
     "output_type": "stream",
     "text": [
      "mean accuracy:  0.7778121775025799\n",
      "variance accuracy:  0.0001313626917885242\n",
      "mean auc:  0.7215172844665103\n",
      "variance auc:  0.0001376453381405967\n"
     ]
    }
   ],
   "source": [
    "mean_accuracy = df['Accuracy'].mean()\n",
    "variance_accuracy = df['Accuracy'].var()\n",
    "\n",
    "mean_auc = df['AUC'].mean()\n",
    "variance_auc = df['AUC'].var()\n",
    "\n",
    "(mean_accuracy, variance_accuracy, mean_auc, variance_auc)\n",
    "print('mean accuracy: ', mean_accuracy)\n",
    "print('variance accuracy: ', variance_accuracy)\n",
    "print('mean auc: ', mean_auc)\n",
    "print('variance auc: ', variance_auc)"
   ]
  },
  {
   "cell_type": "code",
   "execution_count": 4,
   "id": "2a9dec5a",
   "metadata": {},
   "outputs": [
    {
     "name": "stdout",
     "output_type": "stream",
     "text": [
      "mean accuracy:  0.5890608875128999\n",
      "variance accuracy:  0.000669013705337897\n",
      "mean auc:  0.6639703260845984\n",
      "variance auc:  0.000388487302078686\n"
     ]
    }
   ],
   "source": [
    "svm_data = {\n",
    "    \"Random State\": [1, 2, 3, 4, 5, 6, 7, 8, 9, 10],\n",
    "    \"Accuracy\": [0.5923632610939112, 0.6130030959752322, 0.586171310629515, 0.6181630546955624, 0.5964912280701754,\n",
    "                 0.6181630546955624, 0.5459236326109391, 0.5490196078431373, 0.5954592363261094, 0.5758513931888545],\n",
    "    \"AUC\": [0.6621092685266956, 0.6902146296609964, 0.6884641410884023, 0.6810118711136235, 0.6578742726630052,\n",
    "            0.6537085697882395, 0.6533020972780008, 0.6693502885004365, 0.6598416764192815, 0.6238264458073021]\n",
    "}\n",
    "\n",
    "\n",
    "svm_df = pd.DataFrame(svm_data)\n",
    "\n",
    "mean_accuracy_svm = svm_df['Accuracy'].mean()\n",
    "variance_accuracy_svm = svm_df['Accuracy'].var()\n",
    "\n",
    "mean_auc_svm = svm_df['AUC'].mean()\n",
    "variance_auc_svm = svm_df['AUC'].var()\n",
    "\n",
    "print('mean accuracy: ', mean_accuracy_svm)\n",
    "print('variance accuracy: ', variance_accuracy_svm)\n",
    "print('mean auc: ',  mean_auc_svm)\n",
    "print('variance auc: ', variance_auc_svm)"
   ]
  },
  {
   "cell_type": "code",
   "execution_count": 5,
   "id": "032fca34",
   "metadata": {},
   "outputs": [
    {
     "name": "stdout",
     "output_type": "stream",
     "text": [
      "mean accuracy:  0.6880288957688339\n",
      "variance accuracy:  0.00018413970335296118\n",
      "mean auc:  0.7591447549604091\n",
      "variance auc:  0.00030153021341415077\n"
     ]
    }
   ],
   "source": [
    "ann_data = {\n",
    "    \"Random State\": [1, 2, 3, 4, 5, 6, 7, 8, 9, 10],\n",
    "    \"Accuracy\": [0.6790505675954592, 0.6707946336429309, 0.6945304437564499, 0.7120743034055728, 0.6862745098039216,\n",
    "                 0.6852425180598555, 0.6914344685242518, 0.6676986584107327, 0.6904024767801857, 0.7027863777089783],\n",
    "    \"AUC\": [0.7272538950490085, 0.7809543397778692, 0.7647310713794817, 0.7723459581684567, 0.7681467181467182,\n",
    "            0.7455782012498069, 0.7417280232039268, 0.7771307513786276, 0.764292180979089, 0.7492864102711068]\n",
    "}\n",
    "\n",
    "ann_df = pd.DataFrame(ann_data)\n",
    "\n",
    "mean_accuracy_ann = ann_df['Accuracy'].mean()\n",
    "variance_accuracy_ann = ann_df['Accuracy'].var()\n",
    "\n",
    "mean_auc_ann = ann_df['AUC'].mean()\n",
    "variance_auc_ann = ann_df['AUC'].var()\n",
    "\n",
    "print('mean accuracy: ', mean_accuracy_ann)\n",
    "print('variance accuracy: ', variance_accuracy_ann)\n",
    "print('mean auc: ',  mean_auc_ann)\n",
    "print('variance auc: ', variance_auc_ann)"
   ]
  },
  {
   "cell_type": "code",
   "execution_count": 11,
   "id": "d7dcf043",
   "metadata": {},
   "outputs": [
    {
     "data": {
      "text/html": [
       "<pre style=\"white-space:pre;overflow-x:auto;line-height:normal;font-family:Menlo,'DejaVu Sans Mono',consolas,'Courier New',monospace\"></pre>\n"
      ],
      "text/plain": []
     },
     "metadata": {},
     "output_type": "display_data"
    },
    {
     "data": {
      "image/png": "[encoded data removed]",
      "text/plain": [
       "\u001b[1m<\u001b[0m\u001b[1;95mFigure\u001b[0m\u001b[39m size 64\u001b[0m\u001b[1;36m0x480\u001b[0m\u001b[39m with \u001b[0m\u001b[1;36m1\u001b[0m\u001b[39m Axes\u001b[0m\u001b[1m>\u001b[0m"
      ]
     },
     "metadata": {},
     "output_type": "display_data"
    }
   ],
   "source": [
    "import matplotlib.pyplot as plt\n",
    "import numpy as np\n",
    "\n",
    "# Data\n",
    "models = ['DT', 'SVM', 'ANN']\n",
    "metrics = ['Accuracy', 'AUC']\n",
    "mean_values = [0.777812178, 0.589060888, 0.688028896, 0.721517284, 0.663970326, 0.759144755]\n",
    "variance_values = [0.000131363, 0.000669014, 0.00018414, 0.000137645, 0.000388487, 0.00030153]\n",
    "\n",
    "# Separating accuracy and AUC\n",
    "accuracy_means = mean_values[::2]\n",
    "auc_means = mean_values[1::2]\n",
    "accuracy_variance = variance_values[::2]\n",
    "auc_variance = variance_values[1::2]\n",
    "\n",
    "# Convert variance to standard deviation for error bars\n",
    "accuracy_std = np.sqrt(accuracy_variance)\n",
    "auc_std = np.sqrt(auc_variance)\n",
    "\n",
    "# Bar positions\n",
    "bar_width = 0.35\n",
    "index = np.arange(len(models))\n",
    "\n",
    "# Plotting\n",
    "fig, ax = plt.subplots()\n",
    "bar1 = ax.bar(index, accuracy_means, bar_width, label='Accuracy', yerr=accuracy_std, capsize=5, alpha=0.6, color='b')\n",
    "bar2 = ax.bar(index + bar_width, auc_means, bar_width, label='AUC', yerr=auc_std, capsize=5, alpha=0.6, color='r')\n",
    "\n",
    "# Labeling\n",
    "ax.set_xlabel('Model')\n",
    "ax.set_ylabel('Scores')\n",
    "ax.set_title('Mean Scores with Error Bars for Each Model')\n",
    "ax.set_xticks(index + bar_width / 2)\n",
    "ax.set_xticklabels(models)\n",
    "ax.legend()\n",
    "\n",
    "# Display\n",
    "plt.tight_layout()\n",
    "plt.show()\n"
   ]
  },
  {
   "cell_type": "code",
   "execution_count": null,
   "id": "807b4c42",
   "metadata": {},
   "outputs": [],
   "source": []
  }
 ],
 "metadata": {
  "kernelspec": {
   "display_name": "Kedro (joel_mashana_dissertation_project)",
   "language": "python",
   "name": "kedro_joel_mashana_dissertation_project"
  },
  "language_info": {
   "codemirror_mode": {
    "name": "ipython",
    "version": 3
   },
   "file_extension": ".py",
   "mimetype": "text/x-python",
   "name": "python",
   "nbconvert_exporter": "python",
   "pygments_lexer": "ipython3",
   "version": "3.8.10"
  }
 },
 "nbformat": 4,
 "nbformat_minor": 5
}

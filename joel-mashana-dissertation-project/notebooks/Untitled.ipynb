{
 "cells": [
  {
   "cell_type": "code",
   "execution_count": 2,
   "id": "9ecff63e",
   "metadata": {},
   "outputs": [],
   "source": [
    "import pandas as pd\n",
    "\n"
   ]
  },
  {
   "cell_type": "code",
   "execution_count": 3,
   "id": "4e2c5126",
   "metadata": {},
   "outputs": [],
   "source": [
    "\n",
    "\n",
    "def filter_data_on_supplychain_finance(file_path, output_path):\n",
    "    # Load the dataset\n",
    "    data = pd.read_csv(file_path)\n",
    "\n",
    "    # Filter the dataset where 'Supply-chain financing offered' is True\n",
    "    filtered_data = data[data['Supply-chain financing offered'] == True]\n",
    "\n",
    "    # Save the filtered data to a new CSV file\n",
    "    filtered_data.to_csv(output_path, index=False)\n",
    "\n",
    "def main():\n",
    "    input_file_path = \"/data/01_raw/your_filename.csv/payment-practices.csv\"  # Replace with your file path\n",
    "    output_file_path = \"/data/01_raw/your_filename.csv/filtered_payment_practices.csv\"  # Replace with desired output path\n",
    "\n",
    "    filter_data_on_supplychain_finance(input_file_path, output_file_path)\n",
    "    print(f\"Filtered data saved to {output_file_path}\")\n",
    "\n"
   ]
  },
  {
   "cell_type": "code",
   "execution_count": null,
   "id": "0e29a83b",
   "metadata": {},
   "outputs": [],
   "source": []
  }
 ],
 "metadata": {
  "kernelspec": {
   "display_name": "Python 3 (ipykernel)",
   "language": "python",
   "name": "python3"
  },
  "language_info": {
   "codemirror_mode": {
    "name": "ipython",
    "version": 3
   },
   "file_extension": ".py",
   "mimetype": "text/x-python",
   "name": "python",
   "nbconvert_exporter": "python",
   "pygments_lexer": "ipython3",
   "version": "3.8.10"
  }
 },
 "nbformat": 4,
 "nbformat_minor": 5
}

{
 "cells": [
  {
   "cell_type": "code",
   "execution_count": 15,
   "metadata": {},
   "outputs": [
    {
     "data": {
      "text/html": [
       "<pre style=\"white-space:pre;overflow-x:auto;line-height:normal;font-family:Menlo,'DejaVu Sans Mono',consolas,'Courier New',monospace\"></pre>\n"
      ],
      "text/plain": []
     },
     "metadata": {},
     "output_type": "display_data"
    },
    {
     "data": {
      "text/plain": [
       "\n",
       "Period                                                    object\n",
       "Payments made in the reporting period                      int64\n",
       "Average time to pay                                      float64\n",
       "% Invoices paid within \u001b[1;36m30\u001b[0m days                           float64\n",
       "% Invoices paid between \u001b[1;36m31\u001b[0m and \u001b[1;36m60\u001b[0m days                   float64\n",
       "% Invoices paid later than \u001b[1;36m60\u001b[0m days                       float64\n",
       "% Invoices not paid within agreed terms                    int64\n",
       "Shortest \u001b[1m(\u001b[0mor only\u001b[1m)\u001b[0m standard payment period                 int64\n",
       "Longest standard payment period                          float64\n",
       "Maximum contractual payment period                         int64\n",
       "Payment terms have changed                                 int64\n",
       "Suppliers notified of changes                              int64\n",
       "Participates in payment codes                              int64\n",
       "E-Invoicing offered                                        int64\n",
       "Supply-chain financing offered                             int64\n",
       "Policy covers charges for remaining on supplier list       int64\n",
       "Charges have been made for remaining on supplier list      int64\n",
       "Gross Value Added - Monthly \u001b[1m(\u001b[0mIndex 1dp\u001b[1m)\u001b[0m :CVM SA          float64\n",
       "Agriculture, Forestry and Fishing \u001b[1m(\u001b[0mIndex 1dp\u001b[1m)\u001b[0m :CVM SA    float64\n",
       "Production Industries - Total \u001b[1m(\u001b[0mIndex 1dp\u001b[1m)\u001b[0m :CVM SA        float64\n",
       "dtype: object"
      ]
     },
     "execution_count": 15,
     "metadata": {},
     "output_type": "execute_result"
    }
   ],
   "source": [
    "import pandas as pd\n",
    "\n",
    "# Load your data\n",
    "df = pd.read_csv('combined_dataset.csv')\n",
    "\n",
    "# # Basic structure\n",
    "# print(df.shape)\n",
    "# print(df.dtypes)\n",
    "# df.head()\n",
    "# print(df.describe())\n",
    "\n",
    "df2 = pd.read_csv('combined_data_with_appropriate_cols_converted_to_integers.csv')\n",
    "df2.dtypes[:20]\n",
    "# # Missing values\n",
    "# print(df.isnull().sum())\n",
    "\n"
   ]
  },
  {
   "cell_type": "code",
   "execution_count": null,
   "metadata": {},
   "outputs": [],
   "source": []
  }
 ],
 "metadata": {
  "kernelspec": {
   "display_name": "Kedro (joel_mashana_dissertation_project)",
   "language": "python",
   "name": "kedro_joel_mashana_dissertation_project"
  },
  "language_info": {
   "codemirror_mode": {
    "name": "ipython",
    "version": 3
   },
   "file_extension": ".py",
   "mimetype": "text/x-python",
   "name": "python",
   "nbconvert_exporter": "python",
   "pygments_lexer": "ipython3",
   "version": "3.8.10"
  }
 },
 "nbformat": 4,
 "nbformat_minor": 2
}

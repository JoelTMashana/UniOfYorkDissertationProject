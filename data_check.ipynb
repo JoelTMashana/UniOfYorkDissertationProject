{
 "cells": [
  {
   "cell_type": "code",
   "execution_count": null,
   "id": "a783151d-3a0c-4aa7-9d3c-a39945aca204",
   "metadata": {},
   "outputs": [],
   "source": [
    "import pandas as pd\n",
    "import numpy as np\n",
    "import matplotlib.pyplot as plt\n",
    "\n",
    "def generate_data(rows=100):\n",
    "    \"\"\"Generate a random DataFrame.\"\"\"\n",
    "    dates = pd.date_range('20220101', periods=rows)\n",
    "    data = np.random.randn(rows, 4)\n",
    "    columns = ['A', 'B', 'C', 'D']\n",
    "    \n",
    "    df = pd.DataFrame(data, index=dates, columns=columns)\n",
    "    return df\n",
    "\n",
    "def plot_data(df):\n",
    "    \"\"\"Plot the DataFrame.\"\"\"\n",
    "    df.plot(figsize=(10,5))\n",
    "    plt.title('Random Data Visualization')\n",
    "    plt.ylabel('Value')\n",
    "    plt.xlabel('Date')\n",
    "    plt.legend(loc='best')\n",
    "    plt.grid(True)\n",
    "    plt.tight_layout()\n",
    "    plt.show()\n",
    "\n",
    "if __name__ == \"__main__\":\n",
    "    df = generate_data()\n",
    "    plot_data(df)\n"
   ]
  },
  {
   "cell_type": "code",
   "execution_count": null,
   "id": "af851db7-8baf-47d9-86a4-ccac0e46b916",
   "metadata": {},
   "outputs": [],
   "source": []
  }
 ],
 "metadata": {
  "kernelspec": {
   "display_name": "Python 3 (ipykernel)",
   "language": "python",
   "name": "python3"
  },
  "language_info": {
   "codemirror_mode": {
    "name": "ipython",
    "version": 3
   },
   "file_extension": ".py",
   "mimetype": "text/x-python",
   "name": "python",
   "nbconvert_exporter": "python",
   "pygments_lexer": "ipython3",
   "version": "3.8.10"
  }
 },
 "nbformat": 4,
 "nbformat_minor": 5
}
